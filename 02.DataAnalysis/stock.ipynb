{
 "metadata": {
  "language_info": {
   "codemirror_mode": {
    "name": "ipython",
    "version": 3
   },
   "file_extension": ".py",
   "mimetype": "text/x-python",
   "name": "python",
   "nbconvert_exporter": "python",
   "pygments_lexer": "ipython3",
   "version": "3.8.5-final"
  },
  "orig_nbformat": 2,
  "kernelspec": {
   "name": "python3",
   "display_name": "Python 3",
   "language": "python"
  }
 },
 "nbformat": 4,
 "nbformat_minor": 2,
 "cells": [
  {
   "cell_type": "code",
   "execution_count": 2,
   "metadata": {},
   "outputs": [],
   "source": [
    "import numpy as np \n",
    "import pandas as pd"
   ]
  },
  {
   "cell_type": "code",
   "execution_count": 3,
   "metadata": {},
   "outputs": [
    {
     "output_type": "execute_result",
     "data": {
      "text/plain": [
       "   번호    종목코드      기업명    업종코드               업종     상장주식수(주)  \\\n",
       "0   1  095570   AJ네트웍스  147603  산업용 기계 및 장비 임대업   46,822,295   \n",
       "1   2  006840    AK홀딩스  116409           기타 금융업   13,247,561   \n",
       "2   3  027410      BGF  116409           기타 금융업   95,716,791   \n",
       "3   4  282330   BGF리테일   74701           종합 소매업   17,283,906   \n",
       "4   5  138930  BNK금융지주  116409           기타 금융업  325,935,246   \n",
       "\n",
       "              자본금(원) 액면가(원)    통화구분          대표전화  \\\n",
       "0     46,822,295,000  1,000  원(KRW)  02-6363-9999   \n",
       "1     66,237,805,000  5,000  원(KRW)   02-768-2923   \n",
       "2     95,716,791,000  1,000     NaN     1577-3663   \n",
       "3     17,283,906,000  1,000  원(KRW)  02-1577-8007   \n",
       "4  1,629,676,230,000  5,000  원(KRW)  051-620-3023   \n",
       "\n",
       "                             주소  총카운트  \n",
       "0  서울특별시 송파구 정의로8길 9 (문정동,AJ빌딩)   800  \n",
       "1          서울특별시 마포구 양화로 188 -    800  \n",
       "2           서울특별시 강남구 테헤란로 405    800  \n",
       "3      서울특별시 강남구 테헤란로 405 BGF사옥   800  \n",
       "4       부산광역시 남구 문현금융로 30(문현동)    800  "
      ],
      "text/html": "<div>\n<style scoped>\n    .dataframe tbody tr th:only-of-type {\n        vertical-align: middle;\n    }\n\n    .dataframe tbody tr th {\n        vertical-align: top;\n    }\n\n    .dataframe thead th {\n        text-align: right;\n    }\n</style>\n<table border=\"1\" class=\"dataframe\">\n  <thead>\n    <tr style=\"text-align: right;\">\n      <th></th>\n      <th>번호</th>\n      <th>종목코드</th>\n      <th>기업명</th>\n      <th>업종코드</th>\n      <th>업종</th>\n      <th>상장주식수(주)</th>\n      <th>자본금(원)</th>\n      <th>액면가(원)</th>\n      <th>통화구분</th>\n      <th>대표전화</th>\n      <th>주소</th>\n      <th>총카운트</th>\n    </tr>\n  </thead>\n  <tbody>\n    <tr>\n      <th>0</th>\n      <td>1</td>\n      <td>095570</td>\n      <td>AJ네트웍스</td>\n      <td>147603</td>\n      <td>산업용 기계 및 장비 임대업</td>\n      <td>46,822,295</td>\n      <td>46,822,295,000</td>\n      <td>1,000</td>\n      <td>원(KRW)</td>\n      <td>02-6363-9999</td>\n      <td>서울특별시 송파구 정의로8길 9 (문정동,AJ빌딩)</td>\n      <td>800</td>\n    </tr>\n    <tr>\n      <th>1</th>\n      <td>2</td>\n      <td>006840</td>\n      <td>AK홀딩스</td>\n      <td>116409</td>\n      <td>기타 금융업</td>\n      <td>13,247,561</td>\n      <td>66,237,805,000</td>\n      <td>5,000</td>\n      <td>원(KRW)</td>\n      <td>02-768-2923</td>\n      <td>서울특별시 마포구 양화로 188 -</td>\n      <td>800</td>\n    </tr>\n    <tr>\n      <th>2</th>\n      <td>3</td>\n      <td>027410</td>\n      <td>BGF</td>\n      <td>116409</td>\n      <td>기타 금융업</td>\n      <td>95,716,791</td>\n      <td>95,716,791,000</td>\n      <td>1,000</td>\n      <td>NaN</td>\n      <td>1577-3663</td>\n      <td>서울특별시 강남구 테헤란로 405</td>\n      <td>800</td>\n    </tr>\n    <tr>\n      <th>3</th>\n      <td>4</td>\n      <td>282330</td>\n      <td>BGF리테일</td>\n      <td>74701</td>\n      <td>종합 소매업</td>\n      <td>17,283,906</td>\n      <td>17,283,906,000</td>\n      <td>1,000</td>\n      <td>원(KRW)</td>\n      <td>02-1577-8007</td>\n      <td>서울특별시 강남구 테헤란로 405 BGF사옥</td>\n      <td>800</td>\n    </tr>\n    <tr>\n      <th>4</th>\n      <td>5</td>\n      <td>138930</td>\n      <td>BNK금융지주</td>\n      <td>116409</td>\n      <td>기타 금융업</td>\n      <td>325,935,246</td>\n      <td>1,629,676,230,000</td>\n      <td>5,000</td>\n      <td>원(KRW)</td>\n      <td>051-620-3023</td>\n      <td>부산광역시 남구 문현금융로 30(문현동)</td>\n      <td>800</td>\n    </tr>\n  </tbody>\n</table>\n</div>"
     },
     "metadata": {},
     "execution_count": 3
    }
   ],
   "source": [
    "#kospi종목코드받아오기 구글링\n",
    "#(한국거래소에서) KRX마켓데이터 접속해서 CSV다운받아서 만든파일 http://marketdata.krx.co.kr/mdi#document=040601\n",
    "#파일열기\n",
    "kospi = pd.read_csv('./static/data/KOSPI.csv', dtype={'종목코드': str})\n",
    "kospi.head()"
   ]
  },
  {
   "cell_type": "code",
   "execution_count": 4,
   "metadata": {},
   "outputs": [
    {
     "output_type": "execute_result",
     "data": {
      "text/plain": [
       "         기업명\n",
       "종목코드        \n",
       "079980   휴비스\n",
       "005010   휴스틸\n",
       "069260   휴켐스\n",
       "000540  흥국화재\n",
       "003280  흥아해운"
      ],
      "text/html": "<div>\n<style scoped>\n    .dataframe tbody tr th:only-of-type {\n        vertical-align: middle;\n    }\n\n    .dataframe tbody tr th {\n        vertical-align: top;\n    }\n\n    .dataframe thead th {\n        text-align: right;\n    }\n</style>\n<table border=\"1\" class=\"dataframe\">\n  <thead>\n    <tr style=\"text-align: right;\">\n      <th></th>\n      <th>기업명</th>\n    </tr>\n    <tr>\n      <th>종목코드</th>\n      <th></th>\n    </tr>\n  </thead>\n  <tbody>\n    <tr>\n      <th>079980</th>\n      <td>휴비스</td>\n    </tr>\n    <tr>\n      <th>005010</th>\n      <td>휴스틸</td>\n    </tr>\n    <tr>\n      <th>069260</th>\n      <td>휴켐스</td>\n    </tr>\n    <tr>\n      <th>000540</th>\n      <td>흥국화재</td>\n    </tr>\n    <tr>\n      <th>003280</th>\n      <td>흥아해운</td>\n    </tr>\n  </tbody>\n</table>\n</div>"
     },
     "metadata": {},
     "execution_count": 4
    }
   ],
   "source": [
    "#종목코드 기업명만 있으면 됨\n",
    "kospi = kospi[['종목코드', '기업명']]\n",
    "kospi.set_index('종목코드', inplace=True)\n",
    "kospi.tail()"
   ]
  },
  {
   "cell_type": "code",
   "execution_count": 5,
   "metadata": {},
   "outputs": [
    {
     "output_type": "execute_result",
     "data": {
      "text/plain": [
       "           기업명\n",
       "종목코드          \n",
       "060310      3S\n",
       "054620  APS홀딩스\n",
       "265520   AP시스템\n",
       "211270    AP위성\n",
       "035760  CJ ENM"
      ],
      "text/html": "<div>\n<style scoped>\n    .dataframe tbody tr th:only-of-type {\n        vertical-align: middle;\n    }\n\n    .dataframe tbody tr th {\n        vertical-align: top;\n    }\n\n    .dataframe thead th {\n        text-align: right;\n    }\n</style>\n<table border=\"1\" class=\"dataframe\">\n  <thead>\n    <tr style=\"text-align: right;\">\n      <th></th>\n      <th>기업명</th>\n    </tr>\n    <tr>\n      <th>종목코드</th>\n      <th></th>\n    </tr>\n  </thead>\n  <tbody>\n    <tr>\n      <th>060310</th>\n      <td>3S</td>\n    </tr>\n    <tr>\n      <th>054620</th>\n      <td>APS홀딩스</td>\n    </tr>\n    <tr>\n      <th>265520</th>\n      <td>AP시스템</td>\n    </tr>\n    <tr>\n      <th>211270</th>\n      <td>AP위성</td>\n    </tr>\n    <tr>\n      <th>035760</th>\n      <td>CJ ENM</td>\n    </tr>\n  </tbody>\n</table>\n</div>"
     },
     "metadata": {},
     "execution_count": 5
    }
   ],
   "source": [
    "kosdaq = pd.read_csv('./static/data/KOSDAQ.csv', dtype={'종목코드': str})\n",
    "kosdaq = kosdaq[['종목코드', '기업명']]\n",
    "kosdaq.set_index('종목코드', inplace=True)\n",
    "kosdaq.head()"
   ]
  },
  {
   "cell_type": "code",
   "execution_count": 6,
   "metadata": {},
   "outputs": [
    {
     "output_type": "execute_result",
     "data": {
      "text/plain": [
       "'기아자동차'"
      ]
     },
     "metadata": {},
     "execution_count": 6
    }
   ],
   "source": [
    "#이렇게 뽑아서 확인가능\n",
    "company = kospi['기업명']['000270']\n",
    "company"
   ]
  },
  {
   "cell_type": "code",
   "execution_count": 7,
   "metadata": {},
   "outputs": [],
   "source": [
    "#딕셔너리만들기\n",
    "kosdaq_dict = {}\n",
    "for code in kosdaq.index:\n",
    "    kosdaq_dict[code] = kosdaq['기업명'][code]"
   ]
  },
  {
   "cell_type": "code",
   "execution_count": 10,
   "metadata": {},
   "outputs": [
    {
     "output_type": "execute_result",
     "data": {
      "text/plain": [
       "'0.9.10'"
      ]
     },
     "metadata": {},
     "execution_count": 10
    }
   ],
   "source": [
    "# 나스닥 다우지수도 추가하고싶어서 구글링 참고 https://m.blog.naver.com/freed0om/221981429329\n",
    "# 설치 pip install -U finance-datareader \n",
    "import FinanceDataReader as fdr\n",
    "fdr.__version__"
   ]
  },
  {
   "cell_type": "code",
   "execution_count": 11,
   "metadata": {},
   "outputs": [
    {
     "output_type": "execute_result",
     "data": {
      "text/plain": [
       "   Symbol  Market    Name           Sector             Industry ListingDate  \\\n",
       "0  060310  KOSDAQ      3S    특수 목적용 기계 제조업          반도체 웨이퍼 캐리어  2002-04-23   \n",
       "1  095570   KOSPI  AJ네트웍스  산업용 기계 및 장비 임대업  렌탈(파렛트, OA장비, 건설장비)  2015-08-21   \n",
       "2  006840   KOSPI   AK홀딩스           기타 금융업                 지주사업  1999-08-11   \n",
       "3  054620  KOSDAQ  APS홀딩스           기타 금융업          인터넷 트래픽 솔루션  2001-12-04   \n",
       "4  265520  KOSDAQ   AP시스템    특수 목적용 기계 제조업          디스플레이 제조 장비  2017-04-07   \n",
       "\n",
       "  SettleMonth      Representative                       HomePage Region  \n",
       "0         03월  박종익, 김세완 (각자 대표이사)           http://www.3sref.com  서울특별시  \n",
       "1         12월                 이현우         http://www.ajnet.co.kr  서울특별시  \n",
       "2         12월   채형석, 이석주(각자 대표이사)  http://www.aekyunggroup.co.kr  서울특별시  \n",
       "3         12월                 정기로   http://www.apsholdings.co.kr    경기도  \n",
       "4         12월                 김영주     http://www.apsystems.co.kr    경기도  "
      ],
      "text/html": "<div>\n<style scoped>\n    .dataframe tbody tr th:only-of-type {\n        vertical-align: middle;\n    }\n\n    .dataframe tbody tr th {\n        vertical-align: top;\n    }\n\n    .dataframe thead th {\n        text-align: right;\n    }\n</style>\n<table border=\"1\" class=\"dataframe\">\n  <thead>\n    <tr style=\"text-align: right;\">\n      <th></th>\n      <th>Symbol</th>\n      <th>Market</th>\n      <th>Name</th>\n      <th>Sector</th>\n      <th>Industry</th>\n      <th>ListingDate</th>\n      <th>SettleMonth</th>\n      <th>Representative</th>\n      <th>HomePage</th>\n      <th>Region</th>\n    </tr>\n  </thead>\n  <tbody>\n    <tr>\n      <th>0</th>\n      <td>060310</td>\n      <td>KOSDAQ</td>\n      <td>3S</td>\n      <td>특수 목적용 기계 제조업</td>\n      <td>반도체 웨이퍼 캐리어</td>\n      <td>2002-04-23</td>\n      <td>03월</td>\n      <td>박종익, 김세완 (각자 대표이사)</td>\n      <td>http://www.3sref.com</td>\n      <td>서울특별시</td>\n    </tr>\n    <tr>\n      <th>1</th>\n      <td>095570</td>\n      <td>KOSPI</td>\n      <td>AJ네트웍스</td>\n      <td>산업용 기계 및 장비 임대업</td>\n      <td>렌탈(파렛트, OA장비, 건설장비)</td>\n      <td>2015-08-21</td>\n      <td>12월</td>\n      <td>이현우</td>\n      <td>http://www.ajnet.co.kr</td>\n      <td>서울특별시</td>\n    </tr>\n    <tr>\n      <th>2</th>\n      <td>006840</td>\n      <td>KOSPI</td>\n      <td>AK홀딩스</td>\n      <td>기타 금융업</td>\n      <td>지주사업</td>\n      <td>1999-08-11</td>\n      <td>12월</td>\n      <td>채형석, 이석주(각자 대표이사)</td>\n      <td>http://www.aekyunggroup.co.kr</td>\n      <td>서울특별시</td>\n    </tr>\n    <tr>\n      <th>3</th>\n      <td>054620</td>\n      <td>KOSDAQ</td>\n      <td>APS홀딩스</td>\n      <td>기타 금융업</td>\n      <td>인터넷 트래픽 솔루션</td>\n      <td>2001-12-04</td>\n      <td>12월</td>\n      <td>정기로</td>\n      <td>http://www.apsholdings.co.kr</td>\n      <td>경기도</td>\n    </tr>\n    <tr>\n      <th>4</th>\n      <td>265520</td>\n      <td>KOSDAQ</td>\n      <td>AP시스템</td>\n      <td>특수 목적용 기계 제조업</td>\n      <td>디스플레이 제조 장비</td>\n      <td>2017-04-07</td>\n      <td>12월</td>\n      <td>김영주</td>\n      <td>http://www.apsystems.co.kr</td>\n      <td>경기도</td>\n    </tr>\n  </tbody>\n</table>\n</div>"
     },
     "metadata": {},
     "execution_count": 11
    }
   ],
   "source": [
    "# 한국거래소 상장종목 전체 (코스피+코스닥=KRX) 코스피KOSPI 코스닥KOSDAQ\n",
    "df_krx = fdr.StockListing('KRX')\n",
    "df_krx.head()"
   ]
  },
  {
   "cell_type": "code",
   "execution_count": 12,
   "metadata": {},
   "outputs": [
    {
     "output_type": "execute_result",
     "data": {
      "text/plain": [
       "Symbol            2604\n",
       "Market            2604\n",
       "Name              2604\n",
       "Sector            2404\n",
       "Industry          2384\n",
       "ListingDate       2404\n",
       "SettleMonth       2404\n",
       "Representative    2404\n",
       "HomePage          2235\n",
       "Region            2404\n",
       "dtype: int64"
      ]
     },
     "metadata": {},
     "execution_count": 12
    }
   ],
   "source": [
    "df_krx.count()"
   ]
  },
  {
   "cell_type": "code",
   "execution_count": 13,
   "metadata": {},
   "outputs": [
    {
     "output_type": "stream",
     "name": "stdout",
     "text": [
      "<class 'pandas.core.frame.DataFrame'>\nInt64Index: 2604 entries, 0 to 2603\nData columns (total 10 columns):\n #   Column          Non-Null Count  Dtype         \n---  ------          --------------  -----         \n 0   Symbol          2604 non-null   object        \n 1   Market          2604 non-null   object        \n 2   Name            2604 non-null   object        \n 3   Sector          2404 non-null   object        \n 4   Industry        2384 non-null   object        \n 5   ListingDate     2404 non-null   datetime64[ns]\n 6   SettleMonth     2404 non-null   object        \n 7   Representative  2404 non-null   object        \n 8   HomePage        2235 non-null   object        \n 9   Region          2404 non-null   object        \ndtypes: datetime64[ns](1), object(9)\nmemory usage: 303.8+ KB\n"
     ]
    }
   ],
   "source": [
    "df_krx.info()"
   ]
  },
  {
   "cell_type": "code",
   "execution_count": 49,
   "metadata": {},
   "outputs": [
    {
     "output_type": "stream",
     "name": "stderr",
     "text": [
      "100%|██████████| 3242/3242 [00:04<00:00, 782.69it/s]\n"
     ]
    },
    {
     "output_type": "execute_result",
     "data": {
      "text/plain": [
       "  Symbol                  Name        Industry IndustryCode\n",
       "0   AAPL             Apple Inc  컴퓨터, 전화 및 가전제품       571060\n",
       "1   MSFT        Microsoft Corp   소프트웨어 및 IT서비스       572010\n",
       "2   AMZN        Amazon.com Inc         다양한 소매업       534020\n",
       "3     FB  Facebook Inc Class A   소프트웨어 및 IT서비스       572010\n",
       "4  GOOGL  Alphabet Inc Class A   소프트웨어 및 IT서비스       572010"
      ],
      "text/html": "<div>\n<style scoped>\n    .dataframe tbody tr th:only-of-type {\n        vertical-align: middle;\n    }\n\n    .dataframe tbody tr th {\n        vertical-align: top;\n    }\n\n    .dataframe thead th {\n        text-align: right;\n    }\n</style>\n<table border=\"1\" class=\"dataframe\">\n  <thead>\n    <tr style=\"text-align: right;\">\n      <th></th>\n      <th>Symbol</th>\n      <th>Name</th>\n      <th>Industry</th>\n      <th>IndustryCode</th>\n    </tr>\n  </thead>\n  <tbody>\n    <tr>\n      <th>0</th>\n      <td>AAPL</td>\n      <td>Apple Inc</td>\n      <td>컴퓨터, 전화 및 가전제품</td>\n      <td>571060</td>\n    </tr>\n    <tr>\n      <th>1</th>\n      <td>MSFT</td>\n      <td>Microsoft Corp</td>\n      <td>소프트웨어 및 IT서비스</td>\n      <td>572010</td>\n    </tr>\n    <tr>\n      <th>2</th>\n      <td>AMZN</td>\n      <td>Amazon.com Inc</td>\n      <td>다양한 소매업</td>\n      <td>534020</td>\n    </tr>\n    <tr>\n      <th>3</th>\n      <td>FB</td>\n      <td>Facebook Inc Class A</td>\n      <td>소프트웨어 및 IT서비스</td>\n      <td>572010</td>\n    </tr>\n    <tr>\n      <th>4</th>\n      <td>GOOGL</td>\n      <td>Alphabet Inc Class A</td>\n      <td>소프트웨어 및 IT서비스</td>\n      <td>572010</td>\n    </tr>\n  </tbody>\n</table>\n</div>"
     },
     "metadata": {},
     "execution_count": 49
    }
   ],
   "source": [
    "#나스닥 NASDAQ,  뉴욕증권거래소 NYSE, AMEX는 AMEX, S&P500은 SP500\n",
    "#그중 나스닥걸로 해보자\n",
    "df_nasdaq = fdr.StockListing('NASDAQ')\n",
    "df_nasdaq.head()"
   ]
  },
  {
   "cell_type": "code",
   "execution_count": 51,
   "metadata": {},
   "outputs": [],
   "source": [
    "#파일저장\n",
    "df_nasdaq.to_csv('./static/data/NASDAQ.csv', index=False)"
   ]
  },
  {
   "cell_type": "code",
   "execution_count": 22,
   "metadata": {},
   "outputs": [],
   "source": [
    "#파일열기\n",
    "nasdaq = pd.read_csv('static/data/NASDAQ.csv', dtype={'종목코드': str})"
   ]
  },
  {
   "cell_type": "code",
   "execution_count": 25,
   "metadata": {},
   "outputs": [
    {
     "output_type": "execute_result",
     "data": {
      "text/plain": [
       "                                             기업명\n",
       "종목코드                                            \n",
       "SRSA            Sarissa Capital Acquisition Corp\n",
       "MOTN                     Motion Acquisition Corp\n",
       "NBTX                               Nanobiotix SA\n",
       "EDTXU  EdtechX Holdings Acquisition Corp II Unit\n",
       "VVOS                      Vivos Therapeutics Inc"
      ],
      "text/html": "<div>\n<style scoped>\n    .dataframe tbody tr th:only-of-type {\n        vertical-align: middle;\n    }\n\n    .dataframe tbody tr th {\n        vertical-align: top;\n    }\n\n    .dataframe thead th {\n        text-align: right;\n    }\n</style>\n<table border=\"1\" class=\"dataframe\">\n  <thead>\n    <tr style=\"text-align: right;\">\n      <th></th>\n      <th>기업명</th>\n    </tr>\n    <tr>\n      <th>종목코드</th>\n      <th></th>\n    </tr>\n  </thead>\n  <tbody>\n    <tr>\n      <th>SRSA</th>\n      <td>Sarissa Capital Acquisition Corp</td>\n    </tr>\n    <tr>\n      <th>MOTN</th>\n      <td>Motion Acquisition Corp</td>\n    </tr>\n    <tr>\n      <th>NBTX</th>\n      <td>Nanobiotix SA</td>\n    </tr>\n    <tr>\n      <th>EDTXU</th>\n      <td>EdtechX Holdings Acquisition Corp II Unit</td>\n    </tr>\n    <tr>\n      <th>VVOS</th>\n      <td>Vivos Therapeutics Inc</td>\n    </tr>\n  </tbody>\n</table>\n</div>"
     },
     "metadata": {},
     "execution_count": 25
    }
   ],
   "source": [
    "#컬럼명변경 \n",
    "nasdaq.rename(columns={'Symbol':'종목코드', 'Name':'기업명'},inplace=True)\n",
    "nasdaq = nasdaq[['종목코드', '기업명']]\n",
    "nasdaq.set_index('종목코드', inplace=True)\n",
    "nasdaq.tail()"
   ]
  },
  {
   "cell_type": "code",
   "execution_count": 28,
   "metadata": {},
   "outputs": [
    {
     "output_type": "execute_result",
     "data": {
      "text/plain": [
       "'Starbucks Corp'"
      ]
     },
     "metadata": {},
     "execution_count": 28
    }
   ],
   "source": [
    "company = nasdaq['기업명']['SBUX']\n",
    "company"
   ]
  },
  {
   "cell_type": "code",
   "execution_count": 29,
   "metadata": {},
   "outputs": [],
   "source": [
    "nasdaq_dict = {}\n",
    "for code in nasdaq.index:\n",
    "    nasdaq_dict[code] = nasdaq['기업명'][code]"
   ]
  },
  {
   "cell_type": "code",
   "execution_count": 15,
   "metadata": {},
   "outputs": [
    {
     "output_type": "execute_result",
     "data": {
      "text/plain": [
       "   Symbol Market     Name           Sector             Industry ListingDate  \\\n",
       "1  095570  KOSPI   AJ네트웍스  산업용 기계 및 장비 임대업  렌탈(파렛트, OA장비, 건설장비)  2015-08-21   \n",
       "2  006840  KOSPI    AK홀딩스           기타 금융업                 지주사업  1999-08-11   \n",
       "6  027410  KOSPI      BGF           기타 금융업                 지주회사  2014-05-19   \n",
       "7  282330  KOSPI   BGF리테일           종합 소매업              체인화 편의점  2017-12-08   \n",
       "8  138930  KOSPI  BNK금융지주           기타 금융업               금융지주회사  2011-03-30   \n",
       "\n",
       "  SettleMonth     Representative                       HomePage Region  \n",
       "1         12월                이현우         http://www.ajnet.co.kr  서울특별시  \n",
       "2         12월  채형석, 이석주(각자 대표이사)  http://www.aekyunggroup.co.kr  서울특별시  \n",
       "6         12월                홍정국           http://www.bgf.co.kr  서울특별시  \n",
       "7         12월                이건준       http://www.bgfretail.com  서울특별시  \n",
       "8         12월                김지완           http://www.bnkfg.com  부산광역시  "
      ],
      "text/html": "<div>\n<style scoped>\n    .dataframe tbody tr th:only-of-type {\n        vertical-align: middle;\n    }\n\n    .dataframe tbody tr th {\n        vertical-align: top;\n    }\n\n    .dataframe thead th {\n        text-align: right;\n    }\n</style>\n<table border=\"1\" class=\"dataframe\">\n  <thead>\n    <tr style=\"text-align: right;\">\n      <th></th>\n      <th>Symbol</th>\n      <th>Market</th>\n      <th>Name</th>\n      <th>Sector</th>\n      <th>Industry</th>\n      <th>ListingDate</th>\n      <th>SettleMonth</th>\n      <th>Representative</th>\n      <th>HomePage</th>\n      <th>Region</th>\n    </tr>\n  </thead>\n  <tbody>\n    <tr>\n      <th>1</th>\n      <td>095570</td>\n      <td>KOSPI</td>\n      <td>AJ네트웍스</td>\n      <td>산업용 기계 및 장비 임대업</td>\n      <td>렌탈(파렛트, OA장비, 건설장비)</td>\n      <td>2015-08-21</td>\n      <td>12월</td>\n      <td>이현우</td>\n      <td>http://www.ajnet.co.kr</td>\n      <td>서울특별시</td>\n    </tr>\n    <tr>\n      <th>2</th>\n      <td>006840</td>\n      <td>KOSPI</td>\n      <td>AK홀딩스</td>\n      <td>기타 금융업</td>\n      <td>지주사업</td>\n      <td>1999-08-11</td>\n      <td>12월</td>\n      <td>채형석, 이석주(각자 대표이사)</td>\n      <td>http://www.aekyunggroup.co.kr</td>\n      <td>서울특별시</td>\n    </tr>\n    <tr>\n      <th>6</th>\n      <td>027410</td>\n      <td>KOSPI</td>\n      <td>BGF</td>\n      <td>기타 금융업</td>\n      <td>지주회사</td>\n      <td>2014-05-19</td>\n      <td>12월</td>\n      <td>홍정국</td>\n      <td>http://www.bgf.co.kr</td>\n      <td>서울특별시</td>\n    </tr>\n    <tr>\n      <th>7</th>\n      <td>282330</td>\n      <td>KOSPI</td>\n      <td>BGF리테일</td>\n      <td>종합 소매업</td>\n      <td>체인화 편의점</td>\n      <td>2017-12-08</td>\n      <td>12월</td>\n      <td>이건준</td>\n      <td>http://www.bgfretail.com</td>\n      <td>서울특별시</td>\n    </tr>\n    <tr>\n      <th>8</th>\n      <td>138930</td>\n      <td>KOSPI</td>\n      <td>BNK금융지주</td>\n      <td>기타 금융업</td>\n      <td>금융지주회사</td>\n      <td>2011-03-30</td>\n      <td>12월</td>\n      <td>김지완</td>\n      <td>http://www.bnkfg.com</td>\n      <td>부산광역시</td>\n    </tr>\n  </tbody>\n</table>\n</div>"
     },
     "metadata": {},
     "execution_count": 15
    }
   ],
   "source": [
    "df_KOSPI = fdr.StockListing('KOSPI')\n",
    "df_KOSPI.head()"
   ]
  },
  {
   "cell_type": "code",
   "execution_count": 17,
   "metadata": {},
   "outputs": [
    {
     "output_type": "stream",
     "name": "stdout",
     "text": [
      "<class 'pandas.core.frame.DataFrame'>\nInt64Index: 997 entries, 1 to 2601\nData columns (total 10 columns):\n #   Column          Non-Null Count  Dtype         \n---  ------          --------------  -----         \n 0   Symbol          997 non-null    object        \n 1   Market          997 non-null    object        \n 2   Name            997 non-null    object        \n 3   Sector          800 non-null    object        \n 4   Industry        787 non-null    object        \n 5   ListingDate     800 non-null    datetime64[ns]\n 6   SettleMonth     800 non-null    object        \n 7   Representative  800 non-null    object        \n 8   HomePage        773 non-null    object        \n 9   Region          800 non-null    object        \ndtypes: datetime64[ns](1), object(9)\nmemory usage: 125.7+ KB\n"
     ]
    }
   ],
   "source": [
    "df_KOSPI.info()  #왜인지 KRX자료800개보다 FinanceDataReader 업체가 더 많다 ㅋ"
   ]
  },
  {
   "cell_type": "code",
   "execution_count": 18,
   "metadata": {},
   "outputs": [
    {
     "output_type": "execute_result",
     "data": {
      "text/plain": [
       "    Symbol  Market    Name          Sector                Industry  \\\n",
       "0   060310  KOSDAQ      3S   특수 목적용 기계 제조업             반도체 웨이퍼 캐리어   \n",
       "3   054620  KOSDAQ  APS홀딩스          기타 금융업             인터넷 트래픽 솔루션   \n",
       "4   265520  KOSDAQ   AP시스템   특수 목적용 기계 제조업             디스플레이 제조 장비   \n",
       "5   211270  KOSDAQ    AP위성  통신 및 방송 장비 제조업                위성통신 단말기   \n",
       "13  035760  KOSDAQ  CJ ENM        텔레비전 방송업  의류, 생활주방, 가전제품, 보석, 기타   \n",
       "\n",
       "   ListingDate SettleMonth          Representative  \\\n",
       "0   2002-04-23         03월      박종익, 김세완 (각자 대표이사)   \n",
       "3   2001-12-04         12월                     정기로   \n",
       "4   2017-04-07         12월                     김영주   \n",
       "5   2016-03-04         12월                     류장수   \n",
       "13  1999-11-23         12월  Minheoi Heo, Minho Hou   \n",
       "\n",
       "                        HomePage Region  \n",
       "0           http://www.3sref.com  서울특별시  \n",
       "3   http://www.apsholdings.co.kr    경기도  \n",
       "4     http://www.apsystems.co.kr    경기도  \n",
       "5          http://www.apsi.co.kr  서울특별시  \n",
       "13         http://www.cjmall.com  서울특별시  "
      ],
      "text/html": "<div>\n<style scoped>\n    .dataframe tbody tr th:only-of-type {\n        vertical-align: middle;\n    }\n\n    .dataframe tbody tr th {\n        vertical-align: top;\n    }\n\n    .dataframe thead th {\n        text-align: right;\n    }\n</style>\n<table border=\"1\" class=\"dataframe\">\n  <thead>\n    <tr style=\"text-align: right;\">\n      <th></th>\n      <th>Symbol</th>\n      <th>Market</th>\n      <th>Name</th>\n      <th>Sector</th>\n      <th>Industry</th>\n      <th>ListingDate</th>\n      <th>SettleMonth</th>\n      <th>Representative</th>\n      <th>HomePage</th>\n      <th>Region</th>\n    </tr>\n  </thead>\n  <tbody>\n    <tr>\n      <th>0</th>\n      <td>060310</td>\n      <td>KOSDAQ</td>\n      <td>3S</td>\n      <td>특수 목적용 기계 제조업</td>\n      <td>반도체 웨이퍼 캐리어</td>\n      <td>2002-04-23</td>\n      <td>03월</td>\n      <td>박종익, 김세완 (각자 대표이사)</td>\n      <td>http://www.3sref.com</td>\n      <td>서울특별시</td>\n    </tr>\n    <tr>\n      <th>3</th>\n      <td>054620</td>\n      <td>KOSDAQ</td>\n      <td>APS홀딩스</td>\n      <td>기타 금융업</td>\n      <td>인터넷 트래픽 솔루션</td>\n      <td>2001-12-04</td>\n      <td>12월</td>\n      <td>정기로</td>\n      <td>http://www.apsholdings.co.kr</td>\n      <td>경기도</td>\n    </tr>\n    <tr>\n      <th>4</th>\n      <td>265520</td>\n      <td>KOSDAQ</td>\n      <td>AP시스템</td>\n      <td>특수 목적용 기계 제조업</td>\n      <td>디스플레이 제조 장비</td>\n      <td>2017-04-07</td>\n      <td>12월</td>\n      <td>김영주</td>\n      <td>http://www.apsystems.co.kr</td>\n      <td>경기도</td>\n    </tr>\n    <tr>\n      <th>5</th>\n      <td>211270</td>\n      <td>KOSDAQ</td>\n      <td>AP위성</td>\n      <td>통신 및 방송 장비 제조업</td>\n      <td>위성통신 단말기</td>\n      <td>2016-03-04</td>\n      <td>12월</td>\n      <td>류장수</td>\n      <td>http://www.apsi.co.kr</td>\n      <td>서울특별시</td>\n    </tr>\n    <tr>\n      <th>13</th>\n      <td>035760</td>\n      <td>KOSDAQ</td>\n      <td>CJ ENM</td>\n      <td>텔레비전 방송업</td>\n      <td>의류, 생활주방, 가전제품, 보석, 기타</td>\n      <td>1999-11-23</td>\n      <td>12월</td>\n      <td>Minheoi Heo, Minho Hou</td>\n      <td>http://www.cjmall.com</td>\n      <td>서울특별시</td>\n    </tr>\n  </tbody>\n</table>\n</div>"
     },
     "metadata": {},
     "execution_count": 18
    }
   ],
   "source": [
    "df_KOSDAQ = fdr.StockListing('KOSDAQ')\n",
    "df_KOSDAQ.head()"
   ]
  },
  {
   "cell_type": "code",
   "execution_count": 19,
   "metadata": {},
   "outputs": [
    {
     "output_type": "stream",
     "name": "stdout",
     "text": [
      "<class 'pandas.core.frame.DataFrame'>\nInt64Index: 1463 entries, 0 to 2603\nData columns (total 10 columns):\n #   Column          Non-Null Count  Dtype         \n---  ------          --------------  -----         \n 0   Symbol          1463 non-null   object        \n 1   Market          1463 non-null   object        \n 2   Name            1463 non-null   object        \n 3   Sector          1460 non-null   object        \n 4   Industry        1455 non-null   object        \n 5   ListingDate     1460 non-null   datetime64[ns]\n 6   SettleMonth     1460 non-null   object        \n 7   Representative  1460 non-null   object        \n 8   HomePage        1321 non-null   object        \n 9   Region          1460 non-null   object        \ndtypes: datetime64[ns](1), object(9)\nmemory usage: 125.7+ KB\n"
     ]
    }
   ],
   "source": [
    "df_KOSDAQ.info() #왜인지 KRX자료1460개보다 FinanceDataReader 업체가 더 많다 ㅋ"
   ]
  },
  {
   "cell_type": "code",
   "execution_count": null,
   "metadata": {},
   "outputs": [],
   "source": []
  }
 ]
}