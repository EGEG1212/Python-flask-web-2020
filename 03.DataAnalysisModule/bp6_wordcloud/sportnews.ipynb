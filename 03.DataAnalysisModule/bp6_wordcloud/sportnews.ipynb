{
 "metadata": {
  "language_info": {
   "codemirror_mode": {
    "name": "ipython",
    "version": 3
   },
   "file_extension": ".py",
   "mimetype": "text/x-python",
   "name": "python",
   "nbconvert_exporter": "python",
   "pygments_lexer": "ipython3",
   "version": "3.8.5-final"
  },
  "orig_nbformat": 2,
  "kernelspec": {
   "name": "python3",
   "display_name": "Python 3",
   "language": "python"
  }
 },
 "nbformat": 4,
 "nbformat_minor": 2,
 "cells": [
  {
   "source": [
    "## 네이버 스포츠뉴스 최신뉴스 크롤링"
   ],
   "cell_type": "markdown",
   "metadata": {}
  },
  {
   "cell_type": "code",
   "execution_count": 1,
   "metadata": {},
   "outputs": [],
   "source": [
    "import requests, time\n",
    "from selenium import webdriver\n",
    "from selenium.webdriver.common.keys import Keys"
   ]
  },
  {
   "cell_type": "code",
   "execution_count": 2,
   "metadata": {},
   "outputs": [],
   "source": [
    "driver = webdriver.Chrome('./chromedriver')\n",
    "url = 'https://sports.news.naver.com/wfootball/news/index.nhn?isphoto=N'\n",
    "driver.get(url)\n",
    "time.sleep(1)"
   ]
  },
  {
   "cell_type": "code",
   "execution_count": 3,
   "metadata": {},
   "outputs": [],
   "source": [
    "while True:\n",
    "    page = driver.find_element_by_id('_pageList')\n",
    "    try:\n",
    "        next = page.find_element_by_class_name('next')\n",
    "        if next:\n",
    "            next.click()\n",
    "    except:\n",
    "        break"
   ]
  },
  {
   "cell_type": "code",
   "execution_count": 4,
   "metadata": {},
   "outputs": [
    {
     "output_type": "execute_result",
     "data": {
      "text/plain": [
       "5"
      ]
     },
     "metadata": {},
     "execution_count": 4
    }
   ],
   "source": [
    "page = driver.find_element_by_id('_pageList')\n",
    "try:\n",
    "    atags = page.find_elements_by_tag_name('a')\n",
    "    numPage = int(atags[-1].text)\n",
    "except:\n",
    "    numPage=1\n",
    "numPage"
   ]
  },
  {
   "cell_type": "code",
   "execution_count": 5,
   "metadata": {},
   "outputs": [
    {
     "output_type": "execute_result",
     "data": {
      "text/plain": [
       "5"
      ]
     },
     "metadata": {},
     "execution_count": 5
    }
   ],
   "source": [
    "page = driver.find_element_by_id('_pageList')\n",
    "atags = page.find_elements_by_tag_name('a')\n",
    "numPage = int(atags[-1].text)\n",
    "numPage"
   ]
  },
  {
   "cell_type": "code",
   "execution_count": 6,
   "metadata": {},
   "outputs": [
    {
     "output_type": "error",
     "ename": "AttributeError",
     "evalue": "'builtin_function_or_method' object has no attribute 'click'",
     "traceback": [
      "\u001b[1;31m---------------------------------------------------------------------------\u001b[0m",
      "\u001b[1;31mAttributeError\u001b[0m                            Traceback (most recent call last)",
      "\u001b[1;32m<ipython-input-6-9bf60cdb4ef9>\u001b[0m in \u001b[0;36m<module>\u001b[1;34m\u001b[0m\n\u001b[1;32m----> 1\u001b[1;33m \u001b[0mnext\u001b[0m\u001b[1;33m.\u001b[0m\u001b[0mclick\u001b[0m\u001b[1;33m(\u001b[0m\u001b[1;33m)\u001b[0m\u001b[1;33m\u001b[0m\u001b[1;33m\u001b[0m\u001b[0m\n\u001b[0m",
      "\u001b[1;31mAttributeError\u001b[0m: 'builtin_function_or_method' object has no attribute 'click'"
     ]
    }
   ],
   "source": [
    "next.click()"
   ]
  },
  {
   "cell_type": "code",
   "execution_count": null,
   "metadata": {},
   "outputs": [],
   "source": [
    "news = driver.find_element_by_css_selector('.news_list')\n",
    "ul = news.find_element_by_tag_name('ul')\n",
    "lis = ul.find_elements_by_tag_name('li')\n",
    "len(lis)"
   ]
  },
  {
   "cell_type": "code",
   "execution_count": null,
   "metadata": {},
   "outputs": [],
   "source": [
    "for li in lis:\n",
    "    text = li.find_element_by_css_selector('.text')\n",
    "    title = text.find_element_by_tag_name('span').text\n",
    "    print(title)"
   ]
  },
  {
   "cell_type": "code",
   "execution_count": null,
   "metadata": {},
   "outputs": [],
   "source": [
    "page = driver.find_element_by_id('_pageList')\n",
    "atags = page.find_elements_by_tag_name('a')\n",
    "len(atags)"
   ]
  },
  {
   "cell_type": "code",
   "execution_count": null,
   "metadata": {},
   "outputs": [],
   "source": [
    "menus = driver.find_elements_by_class_name('main_menu_item')\n",
    "events = []\n",
    "for i in range(1, len(menus)-4):\n",
    "    event = menus[i].find_element_by_tag_name('a').get_attribute('href')\n",
    "    events.append(event.split('/')[3])"
   ]
  },
  {
   "cell_type": "code",
   "execution_count": null,
   "metadata": {},
   "outputs": [],
   "source": [
    "events"
   ]
  },
  {
   "cell_type": "code",
   "execution_count": null,
   "metadata": {},
   "outputs": [],
   "source": [
    "base_url = 'https://sports.news.naver.com/'\n",
    "option_url = '/news/index.nhn?isphoto=N&page='\n",
    "title_list = []\n",
    "for event in events:\n",
    "    print(event, end=': 1, ')\n",
    "    url = f'{base_url}{event}{option_url}{i}'\n",
    "    driver.get(url)\n",
    "    time.sleep(1)\n",
    "    news = driver.find_element_by_css_selector('.news_list')\n",
    "    ul = news.find_element_by_tag_name('ul')\n",
    "    lis = ul.find_elements_by_tag_name('li')\n",
    "    for li in lis:\n",
    "        text = li.find_element_by_css_selector('.text')\n",
    "        title = text.find_element_by_tag_name('span').text\n",
    "        title_list.append(title)\n",
    "\n",
    "    while True:\n",
    "        page = driver.find_element_by_id('_pageList')\n",
    "        try:\n",
    "            next = page.find_element_by_class_name('next')\n",
    "            if next:\n",
    "                next.click()\n",
    "        except:\n",
    "            break\n",
    "\n",
    "    page = driver.find_element_by_id('_pageList')\n",
    "    try:\n",
    "        atags = page.find_elements_by_tag_name('a')\n",
    "        numPage = int(atags[-1].text)\n",
    "    except:\n",
    "        numPage=1\n",
    "\n",
    "    for i in range(2, numPage+1):\n",
    "        print(i, end=', ')\n",
    "        url = f'{base_url}{event}{option_url}{i}'\n",
    "        driver.get(url)\n",
    "        time.sleep(1)\n",
    "        news = driver.find_element_by_css_selector('.news_list')\n",
    "        ul = news.find_element_by_tag_name('ul')\n",
    "        lis = ul.find_elements_by_tag_name('li')\n",
    "        for li in lis:\n",
    "            text = li.find_element_by_css_selector('.text')\n",
    "            title = text.find_element_by_tag_name('span').text\n",
    "            title_list.append(title)\n",
    "    print()"
   ]
  },
  {
   "cell_type": "code",
   "execution_count": null,
   "metadata": {},
   "outputs": [],
   "source": [
    "len(title_list)"
   ]
  },
  {
   "cell_type": "code",
   "execution_count": null,
   "metadata": {},
   "outputs": [],
   "source": [
    "title_str = ' '.join(title for title in title_list)"
   ]
  },
  {
   "cell_type": "code",
   "execution_count": null,
   "metadata": {},
   "outputs": [],
   "source": [
    "file = open('./sports.txt', 'w', encoding='utf-8')\n",
    "file.write(title_str)\n",
    "file.close()"
   ]
  },
  {
   "cell_type": "code",
   "execution_count": null,
   "metadata": {},
   "outputs": [],
   "source": []
  },
  {
   "cell_type": "code",
   "execution_count": null,
   "metadata": {},
   "outputs": [],
   "source": []
  },
  {
   "cell_type": "code",
   "execution_count": null,
   "metadata": {},
   "outputs": [],
   "source": []
  }
 ]
}