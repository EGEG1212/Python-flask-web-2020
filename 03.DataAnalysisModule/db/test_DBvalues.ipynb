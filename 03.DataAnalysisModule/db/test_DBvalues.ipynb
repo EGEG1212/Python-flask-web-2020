{
 "cells": [
  {
   "cell_type": "code",
   "execution_count": 9,
   "metadata": {},
   "outputs": [],
   "source": [
    "import sqlite3\n",
    "from datetime import date, timedelta, datetime\n",
    "import pprint"
   ]
  },
  {
   "cell_type": "code",
   "execution_count": 10,
   "metadata": {},
   "outputs": [],
   "source": [
    "#db_module.py / def get_agender_daily(date):\n",
    "conn = sqlite3.connect('../db/covid.db')\n",
    "cur = conn.cursor()"
   ]
  },
  {
   "cell_type": "code",
   "execution_count": 11,
   "metadata": {},
   "outputs": [],
   "source": [
    "date = '2020-12-16'"
   ]
  },
  {
   "cell_type": "code",
   "execution_count": 30,
   "metadata": {},
   "outputs": [],
   "source": [
    "sql = 'select * from agender where stdDay=?;'\n",
    "cur.execute(sql, (date,))\n",
    "rows = cur.fetchall()"
   ]
  },
  {
   "cell_type": "code",
   "execution_count": 31,
   "metadata": {},
   "outputs": [
    {
     "data": {
      "text/plain": [
       "[(1, '2020-04-02', 112, 1.14, 0, 0.0, 0.0, '0-9', 11, None),\n",
       " (2, '2020-04-02', 515, 5.26, 0, 0.0, 0.0, '10-19', 10, None),\n",
       " (3, '2020-04-02', 2656, 27.14, 0, 0.0, 0.0, '20-29', 9, None),\n",
       " (4, '2020-04-02', 1012, 10.34, 1, 0.62, 0.1, '30-39', 8, None),\n",
       " (5, '2020-04-02', 1312, 13.41, 1, 0.62, 0.08, '40-49', 7, None),\n",
       " (6, '2020-04-02', 1851, 18.91, 10, 6.17, 0.54, '50-59', 6, None),\n",
       " (7, '2020-04-02', 1235, 12.62, 22, 13.58, 1.78, '60-69', 5, None),\n",
       " (8, '2020-04-02', 651, 6.65, 46, 28.4, 7.07, '70-79', 4, None),\n",
       " (9, '2020-04-02', 442, 4.52, 82, 50.62, 18.55, '80 이상', 3, None),\n",
       " (10, '2020-04-02', 5881, 60.1, 80, 49.38, 1.36, '여성', 2, None),\n",
       " (11, '2020-04-02', 3905, 39.9, 82, 50.62, 2.1, '남성', 1, None)]"
      ]
     },
     "execution_count": 31,
     "metadata": {},
     "output_type": "execute_result"
    }
   ],
   "source": [
    "rows"
   ]
  },
  {
   "cell_type": "code",
   "execution_count": 32,
   "metadata": {},
   "outputs": [],
   "source": [
    "cur.close()\n",
    "conn.close()"
   ]
  },
  {
   "cell_type": "code",
   "execution_count": 66,
   "metadata": {},
   "outputs": [
    {
     "name": "stdout",
     "output_type": "stream",
     "text": [
      "0.0 1.14\n",
      "0.0 5.26\n",
      "0.0 27.14\n",
      "0.62 10.34\n",
      "0.62 13.41\n",
      "6.17 18.91\n",
      "13.58 12.62\n",
      "28.4 6.65\n",
      "50.62 4.52\n"
     ]
    }
   ],
   "source": [
    "for row in rows[:9]:\n",
    "    print(row[5], row[3])"
   ]
  },
  {
   "cell_type": "code",
   "execution_count": 55,
   "metadata": {},
   "outputs": [
    {
     "data": {
      "text/plain": [
       "float"
      ]
     },
     "execution_count": 55,
     "metadata": {},
     "output_type": "execute_result"
    }
   ],
   "source": [
    "type(row[5])"
   ]
  },
  {
   "cell_type": "code",
   "execution_count": 36,
   "metadata": {},
   "outputs": [
    {
     "data": {
      "text/plain": [
       "39"
      ]
     },
     "execution_count": 36,
     "metadata": {},
     "output_type": "execute_result"
    }
   ],
   "source": [
    "  for row in rows:\n",
    "        int_deathRate = int(row[5])\n",
    "        int_confCaseRate = int(row[3])  "
   ]
  },
  {
   "cell_type": "code",
   "execution_count": 2,
   "metadata": {},
   "outputs": [],
   "source": [
    "#db_module.py / def get_region_daily(date):\n",
    "conn = sqlite3.connect('../db/covid.db')\n",
    "cur = conn.cursor()"
   ]
  },
  {
   "cell_type": "code",
   "execution_count": 12,
   "metadata": {},
   "outputs": [],
   "source": [
    "sql = 'select * from region where stdDay=? order by incDec desc;'\n",
    "cur.execute(sql, (date,))\n",
    "rows = cur.fetchall()"
   ]
  },
  {
   "cell_type": "code",
   "execution_count": 13,
   "metadata": {},
   "outputs": [
    {
     "output_type": "execute_result",
     "data": {
      "text/plain": [
       "[(5481, '2020-12-16', 612, 45442, '합계', 1078, 32947, 11883, 1054, 24, 87.65),\n",
       " (5480, '2020-12-16', 120, 13035, '서울', 378, 7690, 5225, 373, 5, 130.04),\n",
       " (5472, '2020-12-16', 144, 10580, '경기', 329, 7642, 2794, 320, 9, 77.36),\n",
       " (5468, '2020-12-16', 3, 596, '전북', 75, 382, 211, 75, 0, 28.67),\n",
       " (5477, '2020-12-16', 14, 1999, '인천', 67, 1436, 549, 64, 3, 65.36),\n",
       " (5479, '2020-12-16', 21, 1338, '부산', 41, 862, 455, 41, 0, 38.01),\n",
       " (5469, '2020-12-16', 13, 1191, '충남', 35, 869, 309, 35, 0, 54.47),\n",
       " (5466, '2020-12-16', 59, 1893, '경북', 28, 1676, 158, 28, 0, 70.05),\n",
       " (5478, '2020-12-16', 200, 7411, '대구', 27, 7053, 158, 27, 0, 303.06),\n",
       " (5470, '2020-12-16', 4, 603, '충북', 23, 345, 254, 22, 1, 36.26),\n",
       " (5465, '2020-12-16', 2, 905, '경남', 19, 659, 244, 19, 0, 26.36),\n",
       " (5464, '2020-12-16', 0, 142, '제주', 15, 82, 60, 15, 0, 18.93),\n",
       " (5475, '2020-12-16', 6, 672, '대전', 15, 522, 144, 15, 0, 44.57),\n",
       " (5471, '2020-12-16', 12, 842, '강원', 8, 641, 189, 8, 0, 54.14),\n",
       " (5463, '2020-12-16', 1, 2304, '검역', 6, 1654, 649, 0, 6, None),\n",
       " (5474, '2020-12-16', 6, 489, '울산', 6, 231, 252, 6, 0, 42.11),\n",
       " (5467, '2020-12-16', 4, 485, '전남', 4, 378, 103, 4, 0, 25.79),\n",
       " (5476, '2020-12-16', 3, 829, '광주', 2, 715, 111, 2, 0, 56.77),\n",
       " (5473, '2020-12-16', 0, 128, '세종', 0, 110, 18, 0, 0, 37.39)]"
      ]
     },
     "metadata": {},
     "execution_count": 13
    }
   ],
   "source": [
    "rows"
   ]
  },
  {
   "cell_type": "code",
   "execution_count": 14,
   "metadata": {},
   "outputs": [],
   "source": [
    "cur.close()\n",
    "conn.close()"
   ]
  },
  {
   "cell_type": "code",
   "execution_count": 15,
   "metadata": {},
   "outputs": [
    {
     "output_type": "stream",
     "name": "stdout",
     "text": [
      "합계\n서울\n경기\n전북\n인천\n부산\n충남\n경북\n대구\n충북\n경남\n제주\n대전\n강원\n검역\n울산\n전남\n광주\n세종\n"
     ]
    }
   ],
   "source": [
    "for row in rows:\n",
    "    print(row[4])"
   ]
  },
  {
   "cell_type": "code",
   "execution_count": 17,
   "metadata": {},
   "outputs": [
    {
     "output_type": "stream",
     "name": "stdout",
     "text": [
      "(612, 45442) (1078, 32947, 11883, 1054, 24, 87.65)\n(120, 13035) (378, 7690, 5225, 373, 5, 130.04)\n(144, 10580) (329, 7642, 2794, 320, 9, 77.36)\n(3, 596) (75, 382, 211, 75, 0, 28.67)\n(14, 1999) (67, 1436, 549, 64, 3, 65.36)\n(21, 1338) (41, 862, 455, 41, 0, 38.01)\n(13, 1191) (35, 869, 309, 35, 0, 54.47)\n(59, 1893) (28, 1676, 158, 28, 0, 70.05)\n(200, 7411) (27, 7053, 158, 27, 0, 303.06)\n(4, 603) (23, 345, 254, 22, 1, 36.26)\n(2, 905) (19, 659, 244, 19, 0, 26.36)\n(0, 142) (15, 82, 60, 15, 0, 18.93)\n(6, 672) (15, 522, 144, 15, 0, 44.57)\n(12, 842) (8, 641, 189, 8, 0, 54.14)\n(1, 2304) (6, 1654, 649, 0, 6, None)\n(6, 489) (6, 231, 252, 6, 0, 42.11)\n(4, 485) (4, 378, 103, 4, 0, 25.79)\n(3, 829) (2, 715, 111, 2, 0, 56.77)\n(0, 128) (0, 110, 18, 0, 0, 37.39)\n"
     ]
    }
   ],
   "source": [
    "for row in rows:\n",
    "    print(row[2:4],row[5:])"
   ]
  },
  {
   "cell_type": "code",
   "execution_count": null,
   "metadata": {},
   "outputs": [],
   "source": [
    "# {% for row in rows %}{{row[5:]}},{% endfor %}"
   ]
  },
  {
   "cell_type": "code",
   "execution_count": 31,
   "metadata": {},
   "outputs": [],
   "source": [
    "gubun_list, defCnt_list, isolClearCnt_list = [], [], []\n",
    "for row in rows:\n",
    "    gubun_list.append(row[4])\n",
    "    defCnt_list.append(row[2])\n",
    "    isolClearCnt_list.append(row[5])\n",
    "data_dict = {\"gubun\": gubun_list, \"defCnt\": defCnt_list,\"isolClearCnt\": isolClearCnt_list}"
   ]
  },
  {
   "cell_type": "code",
   "execution_count": 32,
   "metadata": {},
   "outputs": [
    {
     "output_type": "stream",
     "name": "stdout",
     "text": [
      "{'gubun': ['합계', '서울', '경기', '전북', '인천', '부산', '충남', '경북', '대구', '충북', '경남', '제주', '대전', '강원', '검역', '울산', '전남', '광주', '세종'], 'defCnt': [612, 120, 144, 3, 14, 21, 13, 59, 200, 4, 2, 0, 6, 12, 1, 6, 4, 3, 0], 'isolClearCnt': [1078, 378, 329, 75, 67, 41, 35, 28, 27, 23, 19, 15, 15, 8, 6, 6, 4, 2, 0]}\n"
     ]
    }
   ],
   "source": [
    "print(data_dict)"
   ]
  },
  {
   "cell_type": "code",
   "execution_count": 33,
   "metadata": {},
   "outputs": [
    {
     "output_type": "execute_result",
     "data": {
      "text/plain": [
       "['서울',\n",
       " '경기',\n",
       " '전북',\n",
       " '인천',\n",
       " '부산',\n",
       " '충남',\n",
       " '경북',\n",
       " '대구',\n",
       " '충북',\n",
       " '경남',\n",
       " '제주',\n",
       " '대전',\n",
       " '강원',\n",
       " '검역',\n",
       " '울산',\n",
       " '전남',\n",
       " '광주',\n",
       " '세종']"
      ]
     },
     "metadata": {},
     "execution_count": 33
    }
   ],
   "source": [
    "data_dict[\"gubun\"][1:]"
   ]
  },
  {
   "cell_type": "code",
   "execution_count": 24,
   "metadata": {},
   "outputs": [
    {
     "output_type": "execute_result",
     "data": {
      "text/plain": [
       "[612, 120, 144, 3, 14, 21, 13, 59, 200, 4, 2, 0, 6, 12, 1, 6, 4, 3, 0]"
      ]
     },
     "metadata": {},
     "execution_count": 24
    }
   ],
   "source": [
    "data_dict[\"defCnt\"]"
   ]
  },
  {
   "cell_type": "code",
   "execution_count": 25,
   "metadata": {},
   "outputs": [
    {
     "output_type": "execute_result",
     "data": {
      "text/plain": [
       "[1078, 378, 329, 75, 67, 41, 35, 28, 27, 23, 19, 15, 15, 8, 6, 6, 4, 2, 0]"
      ]
     },
     "metadata": {},
     "execution_count": 25
    }
   ],
   "source": [
    "data_dict[\"isolClearCnt\"]"
   ]
  },
  {
   "cell_type": "code",
   "execution_count": null,
   "metadata": {},
   "outputs": [],
   "source": []
  }
 ],
 "metadata": {
  "kernelspec": {
   "display_name": "Python 3",
   "language": "python",
   "name": "python3"
  },
  "language_info": {
   "codemirror_mode": {
    "name": "ipython",
    "version": 3
   },
   "file_extension": ".py",
   "mimetype": "text/x-python",
   "name": "python",
   "nbconvert_exporter": "python",
   "pygments_lexer": "ipython3",
   "version": "3.8.5-final"
  }
 },
 "nbformat": 4,
 "nbformat_minor": 4
}